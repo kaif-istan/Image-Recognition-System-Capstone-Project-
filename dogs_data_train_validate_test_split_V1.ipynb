{
 "cells": [
  {
   "cell_type": "code",
   "execution_count": 1,
   "metadata": {
    "collapsed": false
   },
   "outputs": [],
   "source": [
    "import glob, cv2, os, shutil\n",
    "from shutil import copyfile \n",
    "from sklearn.model_selection import train_test_split"
   ]
  },
  {
   "cell_type": "code",
   "execution_count": 2,
   "metadata": {
    "collapsed": true
   },
   "outputs": [],
   "source": [
    "files = glob.glob('dogs_raw_data/*')"
   ]
  },
  {
   "cell_type": "code",
   "execution_count": 3,
   "metadata": {
    "collapsed": false
   },
   "outputs": [],
   "source": [
    "files = [glob.glob(i+'/*.jpg') for i in files]"
   ]
  },
  {
   "cell_type": "code",
   "execution_count": 4,
   "metadata": {
    "collapsed": false
   },
   "outputs": [
    {
     "data": {
      "text/plain": [
       "[96, 88, 89, 85, 88, 95]"
      ]
     },
     "execution_count": 4,
     "metadata": {},
     "output_type": "execute_result"
    }
   ],
   "source": [
    "[len(i) for i in files]"
   ]
  },
  {
   "cell_type": "code",
   "execution_count": 5,
   "metadata": {
    "collapsed": false
   },
   "outputs": [
    {
     "data": {
      "text/plain": [
       "['american_bull_dog',\n",
       " 'american_foxhound',\n",
       " 'american_pit_bull',\n",
       " 'bernese_mountain_dog',\n",
       " 'border_collie',\n",
       " 'siberian_husky']"
      ]
     },
     "execution_count": 5,
     "metadata": {},
     "output_type": "execute_result"
    }
   ],
   "source": [
    "[files[i][0].rsplit('\\\\')[-2] for i in range(len(files))]"
   ]
  },
  {
   "cell_type": "code",
   "execution_count": 6,
   "metadata": {
    "collapsed": true
   },
   "outputs": [],
   "source": [
    "destination = \"data\"\n",
    "if not os.path.exists(destination):\n",
    "    os.makedirs(destination)"
   ]
  },
  {
   "cell_type": "code",
   "execution_count": 7,
   "metadata": {
    "collapsed": false
   },
   "outputs": [],
   "source": [
    "for i in range(len(files)):\n",
    "    x = files[i]\n",
    "    train, validate = train_test_split(x, test_size = 0.2, random_state = 42)\n",
    "\n",
    "    train_loc = train[0].rsplit(\"\\\\\")[1]\n",
    "    if not os.path.exists(destination + \"_train\\\\\" + train_loc):\n",
    "        os.makedirs(destination + \"_train\\\\\" + train_loc)\n",
    "    for j in train:\n",
    "        copyfile(j, destination + \"_train\\\\\" + train_loc + \"\\\\\"+ j.rsplit(\"\\\\\")[2])\n",
    "        \n",
    "    validate_loc = validate[0].rsplit(\"\\\\\")[1]\n",
    "    if not os.path.exists(\"dogs\" + \"_validate\\\\\" + validate_loc):\n",
    "        os.makedirs(\"dogs\" + \"_validate\\\\\" + validate_loc)\n",
    "    for m in validate:\n",
    "        copyfile(m, \"dogs\" + \"_validate\\\\\" + validate_loc+\"\\\\\" + m.rsplit(\"\\\\\")[2])\n",
    "    "
   ]
  },
  {
   "cell_type": "code",
   "execution_count": 8,
   "metadata": {
    "collapsed": false
   },
   "outputs": [
    {
     "data": {
      "text/plain": [
       "431"
      ]
     },
     "execution_count": 8,
     "metadata": {},
     "output_type": "execute_result"
    }
   ],
   "source": [
    "files = glob.glob(\"data_train/*\")\n",
    "files = [glob.glob(i+\"/*.jpg\") for i  in files]\n",
    "sum([len(i) for i in files])"
   ]
  },
  {
   "cell_type": "code",
   "execution_count": 9,
   "metadata": {
    "collapsed": false
   },
   "outputs": [
    {
     "data": {
      "text/plain": [
       "110"
      ]
     },
     "execution_count": 9,
     "metadata": {},
     "output_type": "execute_result"
    }
   ],
   "source": [
    "files = glob.glob(\"dogs_validate/*\")\n",
    "files = [glob.glob(i+\"/*.jpg\") for i  in files]\n",
    "sum([len(i) for i in files])"
   ]
  },
  {
   "cell_type": "code",
   "execution_count": 10,
   "metadata": {
    "collapsed": true
   },
   "outputs": [],
   "source": [
    "files = glob.glob('data_train/*')"
   ]
  },
  {
   "cell_type": "code",
   "execution_count": 11,
   "metadata": {
    "collapsed": true
   },
   "outputs": [],
   "source": [
    "files = [glob.glob(i+'/*.jpg') for i in files]"
   ]
  },
  {
   "cell_type": "code",
   "execution_count": 12,
   "metadata": {
    "collapsed": false
   },
   "outputs": [
    {
     "data": {
      "text/plain": [
       "[76, 70, 71, 68, 70, 76]"
      ]
     },
     "execution_count": 12,
     "metadata": {},
     "output_type": "execute_result"
    }
   ],
   "source": [
    "[len(i) for i in files]"
   ]
  },
  {
   "cell_type": "code",
   "execution_count": 13,
   "metadata": {
    "collapsed": true
   },
   "outputs": [],
   "source": [
    "destination = \"dogs\"\n",
    "if not os.path.exists(destination):\n",
    "    os.makedirs(destination)"
   ]
  },
  {
   "cell_type": "code",
   "execution_count": 14,
   "metadata": {
    "collapsed": false
   },
   "outputs": [],
   "source": [
    "for i in range(len(files)):\n",
    "    x = files[i]\n",
    "    train, test = train_test_split(x, test_size = 0.1, random_state = 42)\n",
    "    \n",
    "    train_loc = train[0].rsplit(\"\\\\\")[1]\n",
    "    if not os.path.exists(destination + \"_train\\\\\" + train_loc):\n",
    "        os.makedirs(destination + \"_train\\\\\" + train_loc)\n",
    "    for j in train:\n",
    "        copyfile(j, destination + \"_train\\\\\" + train_loc + \"\\\\\"+ j.rsplit(\"\\\\\")[2])\n",
    "    \n",
    "    test_loc = test[0].rsplit(\"\\\\\")[1]\n",
    "    if not os.path.exists(destination + \"_test\\\\\" + test_loc):\n",
    "        os.makedirs(destination + \"_test\\\\\" + test_loc)\n",
    "    for n in test:\n",
    "        copyfile(n, destination + \"_test\\\\\" + test_loc+\"\\\\\" + n.rsplit(\"\\\\\")[2])"
   ]
  },
  {
   "cell_type": "code",
   "execution_count": 15,
   "metadata": {
    "collapsed": false
   },
   "outputs": [
    {
     "data": {
      "text/plain": [
       "386"
      ]
     },
     "execution_count": 15,
     "metadata": {},
     "output_type": "execute_result"
    }
   ],
   "source": [
    "files = glob.glob(\"dogs_train/*\")\n",
    "files = [glob.glob(i+\"/*.jpg\") for i  in files]\n",
    "sum([len(i) for i in files])"
   ]
  },
  {
   "cell_type": "code",
   "execution_count": 16,
   "metadata": {
    "collapsed": false
   },
   "outputs": [
    {
     "data": {
      "text/plain": [
       "45"
      ]
     },
     "execution_count": 16,
     "metadata": {},
     "output_type": "execute_result"
    }
   ],
   "source": [
    "files = glob.glob(\"dogs_test/*\")\n",
    "files = [glob.glob(i+\"/*.jpg\") for i  in files]\n",
    "sum([len(i) for i in files])"
   ]
  },
  {
   "cell_type": "code",
   "execution_count": 17,
   "metadata": {
    "collapsed": false
   },
   "outputs": [
    {
     "data": {
      "text/plain": [
       "'dogs_test_orig'"
      ]
     },
     "execution_count": 17,
     "metadata": {},
     "output_type": "execute_result"
    }
   ],
   "source": [
    "shutil.copytree(\"dogs_test\", \"dogs_test_orig\")"
   ]
  },
  {
   "cell_type": "code",
   "execution_count": 18,
   "metadata": {
    "collapsed": true
   },
   "outputs": [],
   "source": [
    "shutil.rmtree(\"dogs_test\", ignore_errors=False, onerror=None)"
   ]
  },
  {
   "cell_type": "code",
   "execution_count": 19,
   "metadata": {
    "collapsed": true
   },
   "outputs": [],
   "source": [
    "files = glob.glob('dogs_test_orig/*')"
   ]
  },
  {
   "cell_type": "code",
   "execution_count": 20,
   "metadata": {
    "collapsed": true
   },
   "outputs": [],
   "source": [
    "files = [glob.glob(i+'/*.jpg') for i in files]"
   ]
  },
  {
   "cell_type": "code",
   "execution_count": 21,
   "metadata": {
    "collapsed": true
   },
   "outputs": [],
   "source": [
    "destination = \"dogs_test\"\n",
    "if not os.path.exists(destination):\n",
    "    os.makedirs(destination)"
   ]
  },
  {
   "cell_type": "code",
   "execution_count": 22,
   "metadata": {
    "collapsed": false
   },
   "outputs": [],
   "source": [
    "for i in range(len(files)):\n",
    "    x = files[i]\n",
    "    for m in x:\n",
    "        file_prefix = x[0].rsplit(\"\\\\\")[1]\n",
    "        copyfile(m, destination + \"\\\\\" + file_prefix + \"_\" + m.rsplit(\"\\\\\")[2])"
   ]
  },
  {
   "cell_type": "code",
   "execution_count": 23,
   "metadata": {
    "collapsed": false
   },
   "outputs": [],
   "source": [
    "shutil.rmtree(\"dogs\", ignore_errors=False, onerror=None)"
   ]
  },
  {
   "cell_type": "code",
   "execution_count": 24,
   "metadata": {
    "collapsed": true
   },
   "outputs": [],
   "source": [
    "shutil.rmtree(\"data_train\", ignore_errors=False, onerror=None)"
   ]
  },
  {
   "cell_type": "code",
   "execution_count": 25,
   "metadata": {
    "collapsed": true
   },
   "outputs": [],
   "source": [
    "shutil.rmtree(\"dogs_test_orig\", ignore_errors=False, onerror=None)"
   ]
  }
 ],
 "metadata": {
  "anaconda-cloud": {},
  "kernelspec": {
   "display_name": "Python [default]",
   "language": "python",
   "name": "python3"
  },
  "language_info": {
   "codemirror_mode": {
    "name": "ipython",
    "version": 3
   },
   "file_extension": ".py",
   "mimetype": "text/x-python",
   "name": "python",
   "nbconvert_exporter": "python",
   "pygments_lexer": "ipython3",
   "version": "3.5.2"
  }
 },
 "nbformat": 4,
 "nbformat_minor": 1
}
